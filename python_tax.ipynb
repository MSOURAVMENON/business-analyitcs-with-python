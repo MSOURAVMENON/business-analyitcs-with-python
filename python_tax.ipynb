{
  "nbformat": 4,
  "nbformat_minor": 0,
  "metadata": {
    "colab": {
      "name": "python tax.ipynb",
      "provenance": []
    },
    "kernelspec": {
      "name": "python3",
      "display_name": "Python 3"
    },
    "language_info": {
      "name": "python"
    }
  },
  "cells": [
    {
      "cell_type": "code",
      "execution_count": null,
      "metadata": {
        "id": "KsgV871ldxdS"
      },
      "outputs": [],
      "source": [
        ""
      ]
    },
    {
      "cell_type": "code",
      "source": [
        "x=int(input(\"enter 1st number:\"))\n",
        "y=int(input(\"enter 2nd number:\"))\n",
        "print(x+y)\n",
        "print(x-y)\n",
        "print(x/y)\n",
        "print(x*y)"
      ],
      "metadata": {
        "colab": {
          "base_uri": "https://localhost:8080/"
        },
        "id": "vusSTrywgihY",
        "outputId": "ccf15119-c223-4e61-c4ef-fb06065fdbb2"
      },
      "execution_count": 1,
      "outputs": [
        {
          "output_type": "stream",
          "name": "stdout",
          "text": [
            "enter 1st number:9\n",
            "enter 2nd number:7\n",
            "16\n",
            "2\n",
            "1.2857142857142858\n",
            "63\n"
          ]
        }
      ]
    },
    {
      "cell_type": "code",
      "source": [
        "p=int(input(\"enter principal amount :\"))\n",
        "n=int(input(\"enter no. of yrs :\"))\n",
        "r=int(input(\"enter rate :\"))\n",
        "r=r/100\n",
        "i=p*n*r\n",
        "print(\"interest :\",i)\n"
      ],
      "metadata": {
        "colab": {
          "base_uri": "https://localhost:8080/"
        },
        "id": "SbJ3WyGqgqcH",
        "outputId": "555b61d3-680b-41e8-9a21-89ec06a436a8"
      },
      "execution_count": 2,
      "outputs": [
        {
          "output_type": "stream",
          "name": "stdout",
          "text": [
            "enter principal amount :125\n",
            "enter no. of yrs :3\n",
            "enter rate :7\n",
            "interest : 26.250000000000004\n"
          ]
        }
      ]
    },
    {
      "cell_type": "code",
      "source": [
        "x=int(input(\"enter your marks :\"))\n",
        "if x>50:\n",
        "  print('you are passed')\n",
        "if x<50:\n",
        "  print('you are failed')"
      ],
      "metadata": {
        "colab": {
          "base_uri": "https://localhost:8080/"
        },
        "id": "auGRhEDZg3Vu",
        "outputId": "68cfc21d-c76b-4c6f-86d1-d3888caf1f16"
      },
      "execution_count": 3,
      "outputs": [
        {
          "output_type": "stream",
          "name": "stdout",
          "text": [
            "enter your marks :80\n",
            "you are passed\n"
          ]
        }
      ]
    },
    {
      "cell_type": "code",
      "source": [
        "s=int(input(\"enter salary: \"))\n",
        "if s>250000:\n",
        "  print(\"you r taxable\")\n",
        "  print(\"tax amount payable :\",(s-250000)*(10/100))\n",
        "else:\n",
        "  print(\"not taxable\")"
      ],
      "metadata": {
        "colab": {
          "base_uri": "https://localhost:8080/"
        },
        "id": "1XHEvqpyhDgl",
        "outputId": "85567925-7222-41dc-8968-b502622d5f28"
      },
      "execution_count": 5,
      "outputs": [
        {
          "output_type": "stream",
          "name": "stdout",
          "text": [
            "enter salary: 300000\n",
            "you r taxable\n",
            "tax amount payable : 5000.0\n"
          ]
        }
      ]
    },
    {
      "cell_type": "code",
      "source": [
        "s=int(input(\"enter salary: \"))\n",
        "if s>250000 and s<500000:\n",
        "  print(\"you r taxable\")\n",
        "  print(\"tax amount payable :\",(s-250000)*(10/100))\n",
        "elif s>500000:\n",
        "  print(\"not taxable\")\n",
        "  print(\"tax amount payable :\",(s-250000)*(20/100))\n",
        "else:\n",
        "  print(\"not taxable\")\n"
      ],
      "metadata": {
        "colab": {
          "base_uri": "https://localhost:8080/"
        },
        "id": "8VQ-0_JKhJhV",
        "outputId": "f8e60ce3-dd3d-4e7c-c029-66d9be63623a"
      },
      "execution_count": 13,
      "outputs": [
        {
          "output_type": "stream",
          "name": "stdout",
          "text": [
            "enter salary: 1000000\n",
            "not taxable\n",
            "tax amount payable : 150000.0\n"
          ]
        }
      ]
    },
    {
      "cell_type": "code",
      "source": [
        ""
      ],
      "metadata": {
        "id": "92lGu1u3lkJf"
      },
      "execution_count": null,
      "outputs": []
    }
  ]
}